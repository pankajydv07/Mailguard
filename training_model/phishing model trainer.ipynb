{
 "cells": [
  {
   "cell_type": "code",
   "execution_count": 4,
   "metadata": {
    "id": "mWiNHAJrlNoM"
   },
   "outputs": [],
   "source": [
    "import pandas as pd\n",
    "from sklearn.feature_extraction.text import TfidfVectorizer\n",
    "from sklearn.model_selection import train_test_split\n",
    "from sklearn.ensemble import RandomForestClassifier\n",
    "from sklearn.metrics import accuracy_score, classification_report\n",
    "import re\n"
   ]
  },
  {
   "cell_type": "markdown",
   "metadata": {},
   "source": []
  },
  {
   "cell_type": "code",
   "execution_count": 6,
   "metadata": {
    "colab": {
     "base_uri": "https://localhost:8080/",
     "height": 0
    },
    "id": "gAoYT1WVw_6G",
    "outputId": "956c4fdd-e36b-4445-bd41-cbaa9c5540a0"
   },
   "outputs": [
    {
     "name": "stdout",
     "output_type": "stream",
     "text": [
      "   label                                               text\n",
      "0      0  user id enrondlr pw bnawebescapenumber origina...\n",
      "1      0  hi chris tonight we are rolling out a new repo...\n",
      "2      0  rika r these new original message from thomas ...\n",
      "3      0  john gerald we are currently trading under gtc...\n",
      "4      0  gerald and stacy attached is a worksheet for a...\n"
     ]
    }
   ],
   "source": [
    "# Load your dataset (assumes a CSV file with 'email_text' and 'label' columns)\n",
    "data = pd.read_csv('/content/email_text.csv')  # Replace with your dataset path\n",
    "\n",
    "# Display the first few rows\n",
    "print(data.head())\n"
   ]
  },
  {
   "cell_type": "code",
   "execution_count": 9,
   "metadata": {
    "id": "46rPU1W0xEbq"
   },
   "outputs": [],
   "source": [
    "def preprocess_email(text):\n",
    "    # Remove HTML tags\n",
    "    text = re.sub(r'<.*?>', '', text)\n",
    "    # Remove URLs\n",
    "    text = re.sub(r'http\\S+|www\\S+', '', text)\n",
    "    # Remove special characters and numbers\n",
    "    text = re.sub(r'[^a-zA-Z\\s]', '', text)\n",
    "    # Convert to lowercase\n",
    "    text = text.lower()\n",
    "    # Remove extra spaces\n",
    "    text = re.sub(r'\\s+', ' ', text).strip()\n",
    "    return text\n",
    "\n",
    "# Apply preprocessing to the email_text column\n",
    "data['cleaned_text'] = data['text'].apply(preprocess_email)\n"
   ]
  },
  {
   "cell_type": "code",
   "execution_count": 10,
   "metadata": {
    "id": "JcNgrXFBxG45"
   },
   "outputs": [],
   "source": [
    "# Initialize TF-IDF Vectorizer\n",
    "vectorizer = TfidfVectorizer(max_features=5000)  # Use top 5000 words as features\n",
    "\n",
    "# Transform the cleaned text into numerical data\n",
    "X = vectorizer.fit_transform(data['cleaned_text']).toarray()\n",
    "\n",
    "# Target variable\n",
    "y = data['label']\n"
   ]
  },
  {
   "cell_type": "code",
   "execution_count": 11,
   "metadata": {
    "colab": {
     "base_uri": "https://localhost:8080/",
     "height": 0
    },
    "id": "qFZkFa5DxJ_V",
    "outputId": "f4117ee1-7335-414a-e86c-8468384a39bb"
   },
   "outputs": [
    {
     "name": "stdout",
     "output_type": "stream",
     "text": [
      "Training data shape: (44060, 5000)\n",
      "Testing data shape: (11015, 5000)\n"
     ]
    }
   ],
   "source": [
    "# Split the data into training and test sets (80% train, 20% test)\n",
    "X_train, X_test, y_train, y_test = train_test_split(X, y, test_size=0.2, random_state=42)\n",
    "\n",
    "print(\"Training data shape:\", X_train.shape)\n",
    "print(\"Testing data shape:\", X_test.shape)\n"
   ]
  },
  {
   "cell_type": "code",
   "execution_count": 12,
   "metadata": {
    "colab": {
     "base_uri": "https://localhost:8080/",
     "height": 0
    },
    "id": "712OZC-TxM4Q",
    "outputId": "3954f504-fdc0-45c3-ac5a-75818353256a"
   },
   "outputs": [
    {
     "name": "stdout",
     "output_type": "stream",
     "text": [
      "Model training completed!\n"
     ]
    }
   ],
   "source": [
    "# Initialize Random Forest Classifier\n",
    "model = RandomForestClassifier(n_estimators=100, random_state=42)\n",
    "\n",
    "# Train the model\n",
    "model.fit(X_train, y_train)\n",
    "\n",
    "print(\"Model training completed!\")\n"
   ]
  },
  {
   "cell_type": "code",
   "execution_count": 13,
   "metadata": {
    "colab": {
     "base_uri": "https://localhost:8080/",
     "height": 0
    },
    "id": "ha4ku-_OxQ0k",
    "outputId": "27542e93-ac9d-4ea4-e9fe-adf919d947dc"
   },
   "outputs": [
    {
     "name": "stdout",
     "output_type": "stream",
     "text": [
      "Accuracy: 0.9740354062641852\n",
      "Classification Report:\n",
      "               precision    recall  f1-score   support\n",
      "\n",
      "           0       0.97      0.98      0.98      6067\n",
      "           1       0.98      0.97      0.97      4948\n",
      "\n",
      "    accuracy                           0.97     11015\n",
      "   macro avg       0.97      0.97      0.97     11015\n",
      "weighted avg       0.97      0.97      0.97     11015\n",
      "\n"
     ]
    }
   ],
   "source": [
    "# Make predictions on the test set\n",
    "y_pred = model.predict(X_test)\n",
    "\n",
    "# Evaluate the model\n",
    "print(\"Accuracy:\", accuracy_score(y_test, y_pred))\n",
    "print(\"Classification Report:\\n\", classification_report(y_test, y_pred))\n"
   ]
  },
  {
   "cell_type": "code",
   "execution_count": 14,
   "metadata": {
    "colab": {
     "base_uri": "https://localhost:8080/",
     "height": 0
    },
    "id": "U-KlS9cZxU0T",
    "outputId": "77f9364c-f5c4-499d-9015-efe17279547f"
   },
   "outputs": [
    {
     "name": "stdout",
     "output_type": "stream",
     "text": [
      "Model and vectorizer saved!\n"
     ]
    }
   ],
   "source": [
    "import joblib\n",
    "\n",
    "# Save the model\n",
    "joblib.dump(model, 'phishing_model.pkl')\n",
    "\n",
    "# Save the vectorizer\n",
    "joblib.dump(vectorizer, 'vectorizer.pkl')\n",
    "\n",
    "print(\"Model and vectorizer saved!\")\n"
   ]
  },
  {
   "cell_type": "code",
   "execution_count": 15,
   "metadata": {
    "colab": {
     "base_uri": "https://localhost:8080/",
     "height": 0
    },
    "id": "c0SGsr1LxWod",
    "outputId": "b66ca1ba-5348-4587-ebea-9e9ca0b32ae1"
   },
   "outputs": [
    {
     "name": "stdout",
     "output_type": "stream",
     "text": [
      "Prediction (1=Phishing, 0=Legitimate): 0\n"
     ]
    }
   ],
   "source": [
    "# Load the saved model and vectorizer\n",
    "loaded_model = joblib.load('phishing_model.pkl')\n",
    "loaded_vectorizer = joblib.load('vectorizer.pkl')\n",
    "\n",
    "# Example email\n",
    "new_email = \"Urgent! Update your account details to avoid suspension.\"\n",
    "\n",
    "# Preprocess and vectorize\n",
    "cleaned_email = preprocess_email(new_email)\n",
    "email_features = loaded_vectorizer.transform([cleaned_email]).toarray()\n",
    "\n",
    "# Predict\n",
    "prediction = loaded_model.predict(email_features)\n",
    "print(\"Prediction (1=Phishing, 0=Legitimate):\", prediction[0])\n"
   ]
  }
 ],
 "metadata": {
  "colab": {
   "provenance": []
  },
  "kernelspec": {
   "display_name": "Python 3",
   "name": "python3"
  },
  "language_info": {
   "name": "python"
  }
 },
 "nbformat": 4,
 "nbformat_minor": 0
}
